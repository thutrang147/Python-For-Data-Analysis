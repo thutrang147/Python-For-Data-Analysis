{
 "cells": [
  {
   "cell_type": "markdown",
   "id": "37bc6bf2",
   "metadata": {},
   "source": [
    "## **Chapter 5: Getting Started with pandas**"
   ]
  },
  {
   "cell_type": "markdown",
   "id": "1f024239",
   "metadata": {},
   "source": [
    "- **pandas** là một thư viện mạnh trong Python dùng để làm sạch, xử lý và phân tích dữ liệu một cách nhanh chóng và tiện lợi.\n",
    "- Thường được dùng cùng với các thư viện như:\n",
    "    - matplotlib (vẽ biểu đồ),\n",
    "    - scikit-learn, statsmodels (phân tích, học máy).\n",
    "    - pandas được phát triển từ năm 2010 và đến nay đã có hơn 2.500 người đóng góp, là một dự án cộng đồng mã nguồn mở từ năm 2013.\n",
    "- Trong sách, tác giả dùng quy ước import chuẩn:"
   ]
  },
  {
   "cell_type": "code",
   "execution_count": 55,
   "id": "efad9879",
   "metadata": {},
   "outputs": [],
   "source": [
    "import numpy as np\n",
    "import pandas as pd\n",
    "from pandas import Series, DataFrame"
   ]
  },
  {
   "cell_type": "markdown",
   "id": "172ce33e",
   "metadata": {},
   "source": [
    "- Series: dữ liệu 1 chiều (giống 1 cột).\n",
    "- DataFrame: dữ liệu 2 chiều (giống bảng)."
   ]
  },
  {
   "cell_type": "markdown",
   "id": "75b83e76",
   "metadata": {},
   "source": [
    "### **5.1 Introduction to pandas Data Structures**"
   ]
  },
  {
   "cell_type": "markdown",
   "id": "8c46883f",
   "metadata": {},
   "source": [
    "#### **Series**"
   ]
  },
  {
   "cell_type": "markdown",
   "id": "d638cacb",
   "metadata": {},
   "source": [
    "Series là một mảng 1 chiều trong pandas, giống NumPy array nhưng có thêm **nhãn (index)** cho từng phần tử."
   ]
  },
  {
   "cell_type": "code",
   "execution_count": 56,
   "id": "3e294acb",
   "metadata": {},
   "outputs": [
    {
     "name": "stdout",
     "output_type": "stream",
     "text": [
      "0    4\n",
      "1    7\n",
      "2   -5\n",
      "3    3\n",
      "dtype: int64\n"
     ]
    }
   ],
   "source": [
    "obj = pd.Series([4, 7, -5, 3])\n",
    "print(obj)"
   ]
  },
  {
   "cell_type": "markdown",
   "id": "046d9819",
   "metadata": {},
   "source": [
    "📌 Nếu không chỉ định index, pandas sẽ tạo index mặc định là 0, 1, 2,…"
   ]
  },
  {
   "cell_type": "markdown",
   "id": "5d44c532",
   "metadata": {},
   "source": [
    "Bạn có thể truy cập:"
   ]
  },
  {
   "cell_type": "code",
   "execution_count": 57,
   "id": "c3e7f869",
   "metadata": {},
   "outputs": [
    {
     "data": {
      "text/plain": [
       "<NumpyExtensionArray>\n",
       "[4, 7, -5, 3]\n",
       "Length: 4, dtype: int64"
      ]
     },
     "execution_count": 57,
     "metadata": {},
     "output_type": "execute_result"
    }
   ],
   "source": [
    "obj.array   # dữ liệu"
   ]
  },
  {
   "cell_type": "code",
   "execution_count": 58,
   "id": "ded7ed97",
   "metadata": {},
   "outputs": [
    {
     "data": {
      "text/plain": [
       "RangeIndex(start=0, stop=4, step=1)"
      ]
     },
     "execution_count": 58,
     "metadata": {},
     "output_type": "execute_result"
    }
   ],
   "source": [
    "obj.index   # index"
   ]
  },
  {
   "cell_type": "markdown",
   "id": "567782ca",
   "metadata": {},
   "source": [
    "**Series có nhãn tùy chỉnh**"
   ]
  },
  {
   "cell_type": "code",
   "execution_count": 59,
   "id": "083fbf8b",
   "metadata": {},
   "outputs": [
    {
     "data": {
      "text/plain": [
       "a    4\n",
       "b    7\n",
       "c   -5\n",
       "d    3\n",
       "dtype: int64"
      ]
     },
     "execution_count": 59,
     "metadata": {},
     "output_type": "execute_result"
    }
   ],
   "source": [
    "obj2 = pd.Series([4, 7, -5, 3], index=[\"a\", \"b\", \"c\", \"d\"])  # Gán index tùy ý\n",
    "obj2"
   ]
  },
  {
   "cell_type": "markdown",
   "id": "7ec126f4",
   "metadata": {},
   "source": [
    "👉 Truy cập theo nhãn:"
   ]
  },
  {
   "cell_type": "code",
   "execution_count": 60,
   "id": "b3e95d49",
   "metadata": {},
   "outputs": [
    {
     "data": {
      "text/plain": [
       "c   -5\n",
       "a    4\n",
       "d    3\n",
       "dtype: int64"
      ]
     },
     "execution_count": 60,
     "metadata": {},
     "output_type": "execute_result"
    }
   ],
   "source": [
    "obj2[\"a\"]     # -5\n",
    "obj2[[\"c\", \"a\", \"d\"]]"
   ]
  },
  {
   "cell_type": "markdown",
   "id": "5a36e947",
   "metadata": {},
   "source": [
    "**Series hỗ trợ các thao tác như NumPy**"
   ]
  },
  {
   "cell_type": "code",
   "execution_count": 61,
   "id": "30278425",
   "metadata": {},
   "outputs": [
    {
     "data": {
      "text/plain": [
       "a    4\n",
       "b    7\n",
       "d    3\n",
       "dtype: int64"
      ]
     },
     "execution_count": 61,
     "metadata": {},
     "output_type": "execute_result"
    }
   ],
   "source": [
    "obj2[obj2 > 0]     # lọc"
   ]
  },
  {
   "cell_type": "code",
   "execution_count": 62,
   "id": "e7448740",
   "metadata": {},
   "outputs": [
    {
     "data": {
      "text/plain": [
       "a     8\n",
       "b    14\n",
       "c   -10\n",
       "d     6\n",
       "dtype: int64"
      ]
     },
     "execution_count": 62,
     "metadata": {},
     "output_type": "execute_result"
    }
   ],
   "source": [
    "obj2 * 2           # nhân"
   ]
  },
  {
   "cell_type": "code",
   "execution_count": 63,
   "id": "d46655f3",
   "metadata": {},
   "outputs": [
    {
     "data": {
      "text/plain": [
       "a      54.598150\n",
       "b    1096.633158\n",
       "c       0.006738\n",
       "d      20.085537\n",
       "dtype: float64"
      ]
     },
     "execution_count": 63,
     "metadata": {},
     "output_type": "execute_result"
    }
   ],
   "source": [
    "np.exp(obj2)       # dùng hàm numpy"
   ]
  },
  {
   "cell_type": "markdown",
   "id": "6c9cf16e",
   "metadata": {},
   "source": [
    "**Series giống từ điển**"
   ]
  },
  {
   "cell_type": "code",
   "execution_count": 64,
   "id": "d3f78883",
   "metadata": {},
   "outputs": [
    {
     "data": {
      "text/plain": [
       "True"
      ]
     },
     "execution_count": 64,
     "metadata": {},
     "output_type": "execute_result"
    }
   ],
   "source": [
    "\"b\" in obj2"
   ]
  },
  {
   "cell_type": "code",
   "execution_count": 65,
   "id": "48967537",
   "metadata": {},
   "outputs": [
    {
     "data": {
      "text/plain": [
       "False"
      ]
     },
     "execution_count": 65,
     "metadata": {},
     "output_type": "execute_result"
    }
   ],
   "source": [
    "\"e\" in obj2 "
   ]
  },
  {
   "cell_type": "markdown",
   "id": "346d2465",
   "metadata": {},
   "source": [
    "Bạn có thể tạo Series từ dict:"
   ]
  },
  {
   "cell_type": "code",
   "execution_count": 66,
   "id": "93f11592",
   "metadata": {},
   "outputs": [
    {
     "data": {
      "text/plain": [
       "Ohio      35000\n",
       "Texas     71000\n",
       "Oregon    16000\n",
       "Utah       5000\n",
       "dtype: int64"
      ]
     },
     "execution_count": 66,
     "metadata": {},
     "output_type": "execute_result"
    }
   ],
   "source": [
    "sdata = {\"Ohio\": 35000, \"Texas\": 71000, \"Oregon\": 16000, \"Utah\": 5000}\n",
    "obj3 = pd.Series(sdata)\n",
    "obj3"
   ]
  },
  {
   "cell_type": "markdown",
   "id": "edfc32df",
   "metadata": {},
   "source": [
    "Hoặc ép index theo thứ tự mong muốn:"
   ]
  },
  {
   "cell_type": "code",
   "execution_count": 67,
   "id": "04a7dd3f",
   "metadata": {},
   "outputs": [
    {
     "data": {
      "text/plain": [
       "California        NaN\n",
       "Ohio          35000.0\n",
       "Oregon        16000.0\n",
       "Texas         71000.0\n",
       "dtype: float64"
      ]
     },
     "execution_count": 67,
     "metadata": {},
     "output_type": "execute_result"
    }
   ],
   "source": [
    "states = [\"California\", \"Ohio\", \"Oregon\", \"Texas\"]\n",
    "obj4 = pd.Series(sdata, index=states)\n",
    "obj4"
   ]
  },
  {
   "cell_type": "markdown",
   "id": "e7f84dc7",
   "metadata": {},
   "source": [
    "Nếu key không tồn tại, giá trị sẽ là NaN."
   ]
  },
  {
   "cell_type": "markdown",
   "id": "6c7e3cae",
   "metadata": {},
   "source": [
    "**Kiểm tra giá trị thiếu (NaN)**"
   ]
  },
  {
   "cell_type": "code",
   "execution_count": 68,
   "id": "9fef2938",
   "metadata": {},
   "outputs": [
    {
     "data": {
      "text/plain": [
       "California    False\n",
       "Ohio           True\n",
       "Oregon         True\n",
       "Texas          True\n",
       "dtype: bool"
      ]
     },
     "execution_count": 68,
     "metadata": {},
     "output_type": "execute_result"
    }
   ],
   "source": [
    "pd.isna(obj4)\n",
    "obj4.notna()      # cũng được"
   ]
  },
  {
   "cell_type": "markdown",
   "id": "96c84757",
   "metadata": {},
   "source": [
    "**Cộng Series – tự động căn chỉnh theo index**"
   ]
  },
  {
   "cell_type": "code",
   "execution_count": 69,
   "id": "4b01b51e",
   "metadata": {},
   "outputs": [
    {
     "data": {
      "text/plain": [
       "California         NaN\n",
       "Ohio           70000.0\n",
       "Oregon         32000.0\n",
       "Texas         142000.0\n",
       "Utah               NaN\n",
       "dtype: float64"
      ]
     },
     "execution_count": 69,
     "metadata": {},
     "output_type": "execute_result"
    }
   ],
   "source": [
    "obj3 + obj4"
   ]
  },
  {
   "cell_type": "markdown",
   "id": "c8978548",
   "metadata": {},
   "source": [
    "📌 Các nhãn được ghép giống như phép **join** trong cơ sở dữ liệu."
   ]
  },
  {
   "cell_type": "markdown",
   "id": "0c3e4630",
   "metadata": {},
   "source": [
    "**Đặt tên cho Series và index**"
   ]
  },
  {
   "cell_type": "code",
   "execution_count": 70,
   "id": "645a7172",
   "metadata": {},
   "outputs": [
    {
     "data": {
      "text/plain": [
       "state\n",
       "California        NaN\n",
       "Ohio          35000.0\n",
       "Oregon        16000.0\n",
       "Texas         71000.0\n",
       "Name: population, dtype: float64"
      ]
     },
     "execution_count": 70,
     "metadata": {},
     "output_type": "execute_result"
    }
   ],
   "source": [
    "obj4.name = \"population\"\n",
    "obj4.index.name = \"state\"\n",
    "obj4"
   ]
  },
  {
   "cell_type": "markdown",
   "id": "521ca3b0",
   "metadata": {},
   "source": [
    "**Thay đổi index**"
   ]
  },
  {
   "cell_type": "code",
   "execution_count": 71,
   "id": "6bd00314",
   "metadata": {},
   "outputs": [
    {
     "data": {
      "text/plain": [
       "Bob      4\n",
       "Steve    7\n",
       "Jeff    -5\n",
       "Ryan     3\n",
       "dtype: int64"
      ]
     },
     "execution_count": 71,
     "metadata": {},
     "output_type": "execute_result"
    }
   ],
   "source": [
    "obj.index = [\"Bob\", \"Steve\", \"Jeff\", \"Ryan\"]\n",
    "obj"
   ]
  },
  {
   "cell_type": "markdown",
   "id": "199278f2",
   "metadata": {},
   "source": [
    "#### **DataFrame**"
   ]
  },
  {
   "cell_type": "markdown",
   "id": "7dc48a50",
   "metadata": {},
   "source": [
    "##### **🧱 DataFrame là gì?**\n",
    "- Là một bảng dữ liệu hai chiều (giống như bảng Excel).\n",
    "- Mỗi **cột** là một **Series**, và các Series này **dùng chung chỉ mục (index)**.\n",
    "- Có thể chứa nhiều kiểu dữ liệu khác nhau trong từng cột (số, chuỗi, Boolean…)."
   ]
  },
  {
   "cell_type": "markdown",
   "id": "166bccc4",
   "metadata": {},
   "source": [
    "##### **🛠 Cách tạo DataFrame phổ biến nhất**"
   ]
  },
  {
   "cell_type": "code",
   "execution_count": 73,
   "id": "6a6cccc3",
   "metadata": {},
   "outputs": [
    {
     "data": {
      "text/html": [
       "<div>\n",
       "<style scoped>\n",
       "    .dataframe tbody tr th:only-of-type {\n",
       "        vertical-align: middle;\n",
       "    }\n",
       "\n",
       "    .dataframe tbody tr th {\n",
       "        vertical-align: top;\n",
       "    }\n",
       "\n",
       "    .dataframe thead th {\n",
       "        text-align: right;\n",
       "    }\n",
       "</style>\n",
       "<table border=\"1\" class=\"dataframe\">\n",
       "  <thead>\n",
       "    <tr style=\"text-align: right;\">\n",
       "      <th></th>\n",
       "      <th>state</th>\n",
       "      <th>year</th>\n",
       "      <th>pop</th>\n",
       "    </tr>\n",
       "  </thead>\n",
       "  <tbody>\n",
       "    <tr>\n",
       "      <th>0</th>\n",
       "      <td>Ohio</td>\n",
       "      <td>2000</td>\n",
       "      <td>1.5</td>\n",
       "    </tr>\n",
       "    <tr>\n",
       "      <th>1</th>\n",
       "      <td>Ohio</td>\n",
       "      <td>2001</td>\n",
       "      <td>1.7</td>\n",
       "    </tr>\n",
       "    <tr>\n",
       "      <th>2</th>\n",
       "      <td>Ohio</td>\n",
       "      <td>2002</td>\n",
       "      <td>3.6</td>\n",
       "    </tr>\n",
       "    <tr>\n",
       "      <th>3</th>\n",
       "      <td>Nevada</td>\n",
       "      <td>2001</td>\n",
       "      <td>2.4</td>\n",
       "    </tr>\n",
       "    <tr>\n",
       "      <th>4</th>\n",
       "      <td>Nevada</td>\n",
       "      <td>2002</td>\n",
       "      <td>2.9</td>\n",
       "    </tr>\n",
       "    <tr>\n",
       "      <th>5</th>\n",
       "      <td>Nevada</td>\n",
       "      <td>2003</td>\n",
       "      <td>3.2</td>\n",
       "    </tr>\n",
       "  </tbody>\n",
       "</table>\n",
       "</div>"
      ],
      "text/plain": [
       "    state  year  pop\n",
       "0    Ohio  2000  1.5\n",
       "1    Ohio  2001  1.7\n",
       "2    Ohio  2002  3.6\n",
       "3  Nevada  2001  2.4\n",
       "4  Nevada  2002  2.9\n",
       "5  Nevada  2003  3.2"
      ]
     },
     "execution_count": 73,
     "metadata": {},
     "output_type": "execute_result"
    }
   ],
   "source": [
    "data = {\n",
    "    \"state\": [\"Ohio\", \"Ohio\", \"Ohio\", \"Nevada\", \"Nevada\", \"Nevada\"],\n",
    "    \"year\": [2000, 2001, 2002, 2001, 2002, 2003],\n",
    "    \"pop\": [1.5, 1.7, 3.6, 2.4, 2.9, 3.2]\n",
    "}\n",
    "frame = pd.DataFrame(data)\n",
    "frame"
   ]
  },
  {
   "cell_type": "markdown",
   "id": "eb9a044e",
   "metadata": {},
   "source": [
    "##### **📋 Truy cập dữ liệu**"
   ]
  },
  {
   "cell_type": "markdown",
   "id": "145f4985",
   "metadata": {},
   "source": [
    "- Truy cập **cột**:"
   ]
  },
  {
   "cell_type": "code",
   "execution_count": 74,
   "id": "ff9a82b3",
   "metadata": {},
   "outputs": [
    {
     "data": {
      "text/plain": [
       "0    2000\n",
       "1    2001\n",
       "2    2002\n",
       "3    2001\n",
       "4    2002\n",
       "5    2003\n",
       "Name: year, dtype: int64"
      ]
     },
     "execution_count": 74,
     "metadata": {},
     "output_type": "execute_result"
    }
   ],
   "source": [
    "frame[\"state\"]\n",
    "frame.year  # Chỉ dùng được nếu tên cột là tên hợp lệ trong Python"
   ]
  },
  {
   "cell_type": "markdown",
   "id": "585a14d1",
   "metadata": {},
   "source": [
    "- Truy cập **dòng**:"
   ]
  },
  {
   "cell_type": "code",
   "execution_count": 76,
   "id": "5be9db50",
   "metadata": {},
   "outputs": [
    {
     "data": {
      "text/plain": [
       "state    Ohio\n",
       "year     2001\n",
       "pop       1.7\n",
       "Name: 1, dtype: object"
      ]
     },
     "execution_count": 76,
     "metadata": {},
     "output_type": "execute_result"
    }
   ],
   "source": [
    "frame.loc[1]   # Theo label"
   ]
  },
  {
   "cell_type": "code",
   "execution_count": 77,
   "id": "6c72d43b",
   "metadata": {},
   "outputs": [
    {
     "data": {
      "text/plain": [
       "state    Ohio\n",
       "year     2002\n",
       "pop       3.6\n",
       "Name: 2, dtype: object"
      ]
     },
     "execution_count": 77,
     "metadata": {},
     "output_type": "execute_result"
    }
   ],
   "source": [
    "frame.iloc[2]  # Theo vị trí"
   ]
  },
  {
   "cell_type": "markdown",
   "id": "660349c4",
   "metadata": {},
   "source": [
    "##### **🪄 Tùy chỉnh và thao tác với cột**"
   ]
  },
  {
   "cell_type": "markdown",
   "id": "984841a4",
   "metadata": {},
   "source": [
    "- **Thêm cột mới:**"
   ]
  },
  {
   "cell_type": "code",
   "execution_count": 78,
   "id": "8a3470cd",
   "metadata": {},
   "outputs": [
    {
     "data": {
      "text/html": [
       "<div>\n",
       "<style scoped>\n",
       "    .dataframe tbody tr th:only-of-type {\n",
       "        vertical-align: middle;\n",
       "    }\n",
       "\n",
       "    .dataframe tbody tr th {\n",
       "        vertical-align: top;\n",
       "    }\n",
       "\n",
       "    .dataframe thead th {\n",
       "        text-align: right;\n",
       "    }\n",
       "</style>\n",
       "<table border=\"1\" class=\"dataframe\">\n",
       "  <thead>\n",
       "    <tr style=\"text-align: right;\">\n",
       "      <th></th>\n",
       "      <th>state</th>\n",
       "      <th>year</th>\n",
       "      <th>pop</th>\n",
       "      <th>debt</th>\n",
       "    </tr>\n",
       "  </thead>\n",
       "  <tbody>\n",
       "    <tr>\n",
       "      <th>0</th>\n",
       "      <td>Ohio</td>\n",
       "      <td>2000</td>\n",
       "      <td>1.5</td>\n",
       "      <td>16.5</td>\n",
       "    </tr>\n",
       "    <tr>\n",
       "      <th>1</th>\n",
       "      <td>Ohio</td>\n",
       "      <td>2001</td>\n",
       "      <td>1.7</td>\n",
       "      <td>16.5</td>\n",
       "    </tr>\n",
       "    <tr>\n",
       "      <th>2</th>\n",
       "      <td>Ohio</td>\n",
       "      <td>2002</td>\n",
       "      <td>3.6</td>\n",
       "      <td>16.5</td>\n",
       "    </tr>\n",
       "    <tr>\n",
       "      <th>3</th>\n",
       "      <td>Nevada</td>\n",
       "      <td>2001</td>\n",
       "      <td>2.4</td>\n",
       "      <td>16.5</td>\n",
       "    </tr>\n",
       "    <tr>\n",
       "      <th>4</th>\n",
       "      <td>Nevada</td>\n",
       "      <td>2002</td>\n",
       "      <td>2.9</td>\n",
       "      <td>16.5</td>\n",
       "    </tr>\n",
       "    <tr>\n",
       "      <th>5</th>\n",
       "      <td>Nevada</td>\n",
       "      <td>2003</td>\n",
       "      <td>3.2</td>\n",
       "      <td>16.5</td>\n",
       "    </tr>\n",
       "  </tbody>\n",
       "</table>\n",
       "</div>"
      ],
      "text/plain": [
       "    state  year  pop  debt\n",
       "0    Ohio  2000  1.5  16.5\n",
       "1    Ohio  2001  1.7  16.5\n",
       "2    Ohio  2002  3.6  16.5\n",
       "3  Nevada  2001  2.4  16.5\n",
       "4  Nevada  2002  2.9  16.5\n",
       "5  Nevada  2003  3.2  16.5"
      ]
     },
     "execution_count": 78,
     "metadata": {},
     "output_type": "execute_result"
    }
   ],
   "source": [
    "frame[\"debt\"] = 16.5        # Gán 1 giá trị duy nhất cho toàn bộ cột\n",
    "frame"
   ]
  },
  {
   "cell_type": "code",
   "execution_count": 79,
   "id": "3405b902",
   "metadata": {},
   "outputs": [
    {
     "data": {
      "text/html": [
       "<div>\n",
       "<style scoped>\n",
       "    .dataframe tbody tr th:only-of-type {\n",
       "        vertical-align: middle;\n",
       "    }\n",
       "\n",
       "    .dataframe tbody tr th {\n",
       "        vertical-align: top;\n",
       "    }\n",
       "\n",
       "    .dataframe thead th {\n",
       "        text-align: right;\n",
       "    }\n",
       "</style>\n",
       "<table border=\"1\" class=\"dataframe\">\n",
       "  <thead>\n",
       "    <tr style=\"text-align: right;\">\n",
       "      <th></th>\n",
       "      <th>state</th>\n",
       "      <th>year</th>\n",
       "      <th>pop</th>\n",
       "      <th>debt</th>\n",
       "    </tr>\n",
       "  </thead>\n",
       "  <tbody>\n",
       "    <tr>\n",
       "      <th>0</th>\n",
       "      <td>Ohio</td>\n",
       "      <td>2000</td>\n",
       "      <td>1.5</td>\n",
       "      <td>0.0</td>\n",
       "    </tr>\n",
       "    <tr>\n",
       "      <th>1</th>\n",
       "      <td>Ohio</td>\n",
       "      <td>2001</td>\n",
       "      <td>1.7</td>\n",
       "      <td>1.0</td>\n",
       "    </tr>\n",
       "    <tr>\n",
       "      <th>2</th>\n",
       "      <td>Ohio</td>\n",
       "      <td>2002</td>\n",
       "      <td>3.6</td>\n",
       "      <td>2.0</td>\n",
       "    </tr>\n",
       "    <tr>\n",
       "      <th>3</th>\n",
       "      <td>Nevada</td>\n",
       "      <td>2001</td>\n",
       "      <td>2.4</td>\n",
       "      <td>3.0</td>\n",
       "    </tr>\n",
       "    <tr>\n",
       "      <th>4</th>\n",
       "      <td>Nevada</td>\n",
       "      <td>2002</td>\n",
       "      <td>2.9</td>\n",
       "      <td>4.0</td>\n",
       "    </tr>\n",
       "    <tr>\n",
       "      <th>5</th>\n",
       "      <td>Nevada</td>\n",
       "      <td>2003</td>\n",
       "      <td>3.2</td>\n",
       "      <td>5.0</td>\n",
       "    </tr>\n",
       "  </tbody>\n",
       "</table>\n",
       "</div>"
      ],
      "text/plain": [
       "    state  year  pop  debt\n",
       "0    Ohio  2000  1.5   0.0\n",
       "1    Ohio  2001  1.7   1.0\n",
       "2    Ohio  2002  3.6   2.0\n",
       "3  Nevada  2001  2.4   3.0\n",
       "4  Nevada  2002  2.9   4.0\n",
       "5  Nevada  2003  3.2   5.0"
      ]
     },
     "execution_count": 79,
     "metadata": {},
     "output_type": "execute_result"
    }
   ],
   "source": [
    "frame[\"debt\"] = np.arange(6.)  # Gán mảng có cùng độ dài\n",
    "frame"
   ]
  },
  {
   "cell_type": "markdown",
   "id": "ac9c4f2c",
   "metadata": {},
   "source": [
    "- **Gán Series có chỉ mục riêng** (sẽ được căn chỉnh theo index của DataFrame):"
   ]
  },
  {
   "cell_type": "code",
   "execution_count": 81,
   "id": "a028b9e9",
   "metadata": {},
   "outputs": [
    {
     "data": {
      "text/plain": [
       "two    -1.2\n",
       "four   -1.5\n",
       "five   -1.7\n",
       "dtype: float64"
      ]
     },
     "execution_count": 81,
     "metadata": {},
     "output_type": "execute_result"
    }
   ],
   "source": [
    "val = pd.Series([-1.2, -1.5, -1.7], index=[\"two\", \"four\", \"five\"])\n",
    "frame[\"debt\"] = val\n",
    "val"
   ]
  },
  {
   "cell_type": "markdown",
   "id": "9329bc12",
   "metadata": {},
   "source": [
    "- **Xóa cột**:"
   ]
  },
  {
   "cell_type": "code",
   "execution_count": 82,
   "id": "3649152f",
   "metadata": {},
   "outputs": [],
   "source": [
    "del frame[\"debt\"]"
   ]
  },
  {
   "cell_type": "markdown",
   "id": "d59f47dd",
   "metadata": {},
   "source": [
    "##### **🔄 Chuyển đổi dữ liệu**"
   ]
  },
  {
   "cell_type": "markdown",
   "id": "6d855cbd",
   "metadata": {},
   "source": [
    "- **Chuyển đổi từ dictionary lồng nhau**:"
   ]
  },
  {
   "cell_type": "code",
   "execution_count": 83,
   "id": "c06cf9f3",
   "metadata": {},
   "outputs": [
    {
     "data": {
      "text/html": [
       "<div>\n",
       "<style scoped>\n",
       "    .dataframe tbody tr th:only-of-type {\n",
       "        vertical-align: middle;\n",
       "    }\n",
       "\n",
       "    .dataframe tbody tr th {\n",
       "        vertical-align: top;\n",
       "    }\n",
       "\n",
       "    .dataframe thead th {\n",
       "        text-align: right;\n",
       "    }\n",
       "</style>\n",
       "<table border=\"1\" class=\"dataframe\">\n",
       "  <thead>\n",
       "    <tr style=\"text-align: right;\">\n",
       "      <th></th>\n",
       "      <th>Ohio</th>\n",
       "      <th>Nevada</th>\n",
       "    </tr>\n",
       "  </thead>\n",
       "  <tbody>\n",
       "    <tr>\n",
       "      <th>2000</th>\n",
       "      <td>1.5</td>\n",
       "      <td>NaN</td>\n",
       "    </tr>\n",
       "    <tr>\n",
       "      <th>2001</th>\n",
       "      <td>1.7</td>\n",
       "      <td>2.4</td>\n",
       "    </tr>\n",
       "    <tr>\n",
       "      <th>2002</th>\n",
       "      <td>3.6</td>\n",
       "      <td>2.9</td>\n",
       "    </tr>\n",
       "  </tbody>\n",
       "</table>\n",
       "</div>"
      ],
      "text/plain": [
       "      Ohio  Nevada\n",
       "2000   1.5     NaN\n",
       "2001   1.7     2.4\n",
       "2002   3.6     2.9"
      ]
     },
     "execution_count": 83,
     "metadata": {},
     "output_type": "execute_result"
    }
   ],
   "source": [
    "populations = {\n",
    "    \"Ohio\": {2000: 1.5, 2001: 1.7, 2002: 3.6},\n",
    "    \"Nevada\": {2001: 2.4, 2002: 2.9}\n",
    "}\n",
    "frame3 = pd.DataFrame(populations)\n",
    "frame3"
   ]
  },
  {
   "cell_type": "markdown",
   "id": "3cffb14d",
   "metadata": {},
   "source": [
    "- **Chuyển vị (transpose)**:"
   ]
  },
  {
   "cell_type": "code",
   "execution_count": 84,
   "id": "caacbe20",
   "metadata": {},
   "outputs": [
    {
     "data": {
      "text/html": [
       "<div>\n",
       "<style scoped>\n",
       "    .dataframe tbody tr th:only-of-type {\n",
       "        vertical-align: middle;\n",
       "    }\n",
       "\n",
       "    .dataframe tbody tr th {\n",
       "        vertical-align: top;\n",
       "    }\n",
       "\n",
       "    .dataframe thead th {\n",
       "        text-align: right;\n",
       "    }\n",
       "</style>\n",
       "<table border=\"1\" class=\"dataframe\">\n",
       "  <thead>\n",
       "    <tr style=\"text-align: right;\">\n",
       "      <th></th>\n",
       "      <th>2000</th>\n",
       "      <th>2001</th>\n",
       "      <th>2002</th>\n",
       "    </tr>\n",
       "  </thead>\n",
       "  <tbody>\n",
       "    <tr>\n",
       "      <th>Ohio</th>\n",
       "      <td>1.5</td>\n",
       "      <td>1.7</td>\n",
       "      <td>3.6</td>\n",
       "    </tr>\n",
       "    <tr>\n",
       "      <th>Nevada</th>\n",
       "      <td>NaN</td>\n",
       "      <td>2.4</td>\n",
       "      <td>2.9</td>\n",
       "    </tr>\n",
       "  </tbody>\n",
       "</table>\n",
       "</div>"
      ],
      "text/plain": [
       "        2000  2001  2002\n",
       "Ohio     1.5   1.7   3.6\n",
       "Nevada   NaN   2.4   2.9"
      ]
     },
     "execution_count": 84,
     "metadata": {},
     "output_type": "execute_result"
    }
   ],
   "source": [
    "frame3.T"
   ]
  },
  {
   "cell_type": "markdown",
   "id": "cfaecfcf",
   "metadata": {},
   "source": [
    "- **Chỉ định index cụ thể khi tạo từ nested dict**:"
   ]
  },
  {
   "cell_type": "code",
   "execution_count": 85,
   "id": "c797a56c",
   "metadata": {},
   "outputs": [
    {
     "data": {
      "text/html": [
       "<div>\n",
       "<style scoped>\n",
       "    .dataframe tbody tr th:only-of-type {\n",
       "        vertical-align: middle;\n",
       "    }\n",
       "\n",
       "    .dataframe tbody tr th {\n",
       "        vertical-align: top;\n",
       "    }\n",
       "\n",
       "    .dataframe thead th {\n",
       "        text-align: right;\n",
       "    }\n",
       "</style>\n",
       "<table border=\"1\" class=\"dataframe\">\n",
       "  <thead>\n",
       "    <tr style=\"text-align: right;\">\n",
       "      <th></th>\n",
       "      <th>Ohio</th>\n",
       "      <th>Nevada</th>\n",
       "    </tr>\n",
       "  </thead>\n",
       "  <tbody>\n",
       "    <tr>\n",
       "      <th>2001</th>\n",
       "      <td>1.7</td>\n",
       "      <td>2.4</td>\n",
       "    </tr>\n",
       "    <tr>\n",
       "      <th>2002</th>\n",
       "      <td>3.6</td>\n",
       "      <td>2.9</td>\n",
       "    </tr>\n",
       "    <tr>\n",
       "      <th>2003</th>\n",
       "      <td>NaN</td>\n",
       "      <td>NaN</td>\n",
       "    </tr>\n",
       "  </tbody>\n",
       "</table>\n",
       "</div>"
      ],
      "text/plain": [
       "      Ohio  Nevada\n",
       "2001   1.7     2.4\n",
       "2002   3.6     2.9\n",
       "2003   NaN     NaN"
      ]
     },
     "execution_count": 85,
     "metadata": {},
     "output_type": "execute_result"
    }
   ],
   "source": [
    "pd.DataFrame(populations, index=[2001, 2002, 2003])"
   ]
  },
  {
   "cell_type": "markdown",
   "id": "6fef3101",
   "metadata": {},
   "source": [
    "##### **🔎 Một số điểm cần lưu ý**\n",
    "- frame[col] trả về một **view**, không phải **copy**.\n",
    "- Dot notation (frame.year) không dùng được nếu tên cột có dấu cách hoặc ký tự đặc biệt.\n",
    "- Nếu gán giá trị với độ dài không khớp số dòng, sẽ báo lỗi.\n",
    "- Dùng `frame.head()` để xem 5 dòng đầu, `frame.tail()` để xem 5 dòng cuối."
   ]
  }
 ],
 "metadata": {
  "kernelspec": {
   "display_name": "Python 3",
   "language": "python",
   "name": "python3"
  },
  "language_info": {
   "codemirror_mode": {
    "name": "ipython",
    "version": 3
   },
   "file_extension": ".py",
   "mimetype": "text/x-python",
   "name": "python",
   "nbconvert_exporter": "python",
   "pygments_lexer": "ipython3",
   "version": "3.12.4"
  }
 },
 "nbformat": 4,
 "nbformat_minor": 5
}
