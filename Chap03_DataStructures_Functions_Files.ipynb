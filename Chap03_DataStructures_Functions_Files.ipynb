{
 "cells": [
  {
   "cell_type": "markdown",
   "id": "3359b13a",
   "metadata": {},
   "source": [
    "### 3.1 Data Structutes and Sequences"
   ]
  },
  {
   "cell_type": "markdown",
   "id": "4c3aa2e3",
   "metadata": {},
   "source": [
    "#### Tuple\n",
    "Tuple là một dãy (sequence) các đối tượng Python có độ dài cố định và không thể thay đổi – nghĩa là một khi đã được gán giá trị, bạn không thể sửa đổi nội dung của nó nữa.   "
   ]
  },
  {
   "cell_type": "markdown",
   "id": "87a24e3a",
   "metadata": {},
   "source": [
    "Cách đơn giản nhất để tạo một tuple là dùng một dãy các giá trị, cách nhau bằng dấu phẩy và đặt trong dấu ngoặc đơn:"
   ]
  },
  {
   "cell_type": "code",
   "execution_count": 1,
   "id": "277af0c0",
   "metadata": {},
   "outputs": [
    {
     "data": {
      "text/plain": [
       "(4, 5, 6)"
      ]
     },
     "execution_count": 1,
     "metadata": {},
     "output_type": "execute_result"
    }
   ],
   "source": [
    "tup = (4, 5, 6)\n",
    "tup"
   ]
  },
  {
   "cell_type": "markdown",
   "id": "bb80cf19",
   "metadata": {},
   "source": [
    "Ta cũng có thể viết:"
   ]
  },
  {
   "cell_type": "code",
   "execution_count": 2,
   "id": "d2f4b9f0",
   "metadata": {},
   "outputs": [
    {
     "data": {
      "text/plain": [
       "(4, 5, 6)"
      ]
     },
     "execution_count": 2,
     "metadata": {},
     "output_type": "execute_result"
    }
   ],
   "source": [
    "tup = 4, 5, 6\n",
    "tup"
   ]
  },
  {
   "cell_type": "markdown",
   "id": "c3158a86",
   "metadata": {},
   "source": [
    "Bạn có thể chuyển bất kì sequence hoặc iterator nào thành 1 tuple bằng cách:"
   ]
  },
  {
   "cell_type": "code",
   "execution_count": 3,
   "id": "b535b417",
   "metadata": {},
   "outputs": [
    {
     "data": {
      "text/plain": [
       "(4, 0, 2)"
      ]
     },
     "execution_count": 3,
     "metadata": {},
     "output_type": "execute_result"
    }
   ],
   "source": [
    "tuple([4, 0, 2])"
   ]
  },
  {
   "cell_type": "code",
   "execution_count": 6,
   "id": "570598d0",
   "metadata": {},
   "outputs": [
    {
     "data": {
      "text/plain": [
       "('s', 't', 'r', 'i', 'n', 'g')"
      ]
     },
     "execution_count": 6,
     "metadata": {},
     "output_type": "execute_result"
    }
   ],
   "source": [
    "tup = tuple('string')\n",
    "tup"
   ]
  },
  {
   "cell_type": "markdown",
   "id": "3aadb5be",
   "metadata": {},
   "source": [
    "Có thể access các phần tử trong tuple bằng cách dùng [].  \n",
    "Chỉ số index bắt đầu từ 0."
   ]
  },
  {
   "cell_type": "code",
   "execution_count": 7,
   "id": "8e1a8c9a",
   "metadata": {},
   "outputs": [
    {
     "data": {
      "text/plain": [
       "'s'"
      ]
     },
     "execution_count": 7,
     "metadata": {},
     "output_type": "execute_result"
    }
   ],
   "source": [
    "tup[0]"
   ]
  },
  {
   "cell_type": "markdown",
   "id": "5be6161f",
   "metadata": {},
   "source": [
    "Khi bạn định nghĩa các tuple trong những biểu thức phức tạp hơn, thường sẽ cần phải đặt các giá trị trong dấu ngoặc đơn.  \n",
    "\n",
    "Một ví dụ về tuple chứa các tuple:"
   ]
  },
  {
   "cell_type": "code",
   "execution_count": 8,
   "id": "9109fbd0",
   "metadata": {},
   "outputs": [
    {
     "data": {
      "text/plain": [
       "((4, 5, 6), (7, 8))"
      ]
     },
     "execution_count": 8,
     "metadata": {},
     "output_type": "execute_result"
    }
   ],
   "source": [
    "nested_tup = (4, 5, 6), (7, 8)\n",
    "nested_tup"
   ]
  },
  {
   "cell_type": "code",
   "execution_count": 9,
   "id": "dd1e963a",
   "metadata": {},
   "outputs": [
    {
     "data": {
      "text/plain": [
       "(4, 5, 6)"
      ]
     },
     "execution_count": 9,
     "metadata": {},
     "output_type": "execute_result"
    }
   ],
   "source": [
    "nested_tup[0]"
   ]
  },
  {
   "cell_type": "code",
   "execution_count": 10,
   "id": "f4b01fa3",
   "metadata": {},
   "outputs": [
    {
     "data": {
      "text/plain": [
       "(7, 8)"
      ]
     },
     "execution_count": 10,
     "metadata": {},
     "output_type": "execute_result"
    }
   ],
   "source": [
    "nested_tup[1]"
   ]
  },
  {
   "cell_type": "markdown",
   "id": "8304e848",
   "metadata": {},
   "source": [
    "Mặc dù các đối tượng được lưu trong một tuple có thể là các đối tượng có thể thay đổi (mutable), nhưng một khi tuple đã được tạo, bạn không thể thay đổi đối tượng được lưu tại từng vị trí trong tuple."
   ]
  },
  {
   "cell_type": "code",
   "execution_count": 13,
   "id": "742b181c",
   "metadata": {},
   "outputs": [
    {
     "ename": "TypeError",
     "evalue": "'tuple' object does not support item assignment",
     "output_type": "error",
     "traceback": [
      "\u001b[0;31m---------------------------------------------------------------------------\u001b[0m",
      "\u001b[0;31mTypeError\u001b[0m                                 Traceback (most recent call last)",
      "Cell \u001b[0;32mIn[13], line 3\u001b[0m\n\u001b[1;32m      1\u001b[0m tup \u001b[38;5;241m=\u001b[39m \u001b[38;5;28mtuple\u001b[39m([\u001b[38;5;124m'\u001b[39m\u001b[38;5;124mfoo\u001b[39m\u001b[38;5;124m'\u001b[39m, [\u001b[38;5;241m1\u001b[39m, \u001b[38;5;241m2\u001b[39m], \u001b[38;5;28;01mTrue\u001b[39;00m])\n\u001b[0;32m----> 3\u001b[0m \u001b[43mtup\u001b[49m\u001b[43m[\u001b[49m\u001b[38;5;241;43m2\u001b[39;49m\u001b[43m]\u001b[49m \u001b[38;5;241m=\u001b[39m \u001b[38;5;28;01mFalse\u001b[39;00m\n",
      "\u001b[0;31mTypeError\u001b[0m: 'tuple' object does not support item assignment"
     ]
    }
   ],
   "source": [
    "tup = tuple(['foo', [1, 2], True])\n",
    "\n",
    "tup[2] = False"
   ]
  },
  {
   "cell_type": "markdown",
   "id": "687cc8e6",
   "metadata": {},
   "source": [
    "Nếu 1 đối tượng bên trong tuple là kiểu có thể thay đổi (mutable), chẳng hạn như list, bạn có thể thay đổi nội dung của nó in place:"
   ]
  },
  {
   "cell_type": "code",
   "execution_count": 14,
   "id": "5a2f02b3",
   "metadata": {},
   "outputs": [
    {
     "data": {
      "text/plain": [
       "('foo', [1, 2, 3], True)"
      ]
     },
     "execution_count": 14,
     "metadata": {},
     "output_type": "execute_result"
    }
   ],
   "source": [
    "tup[1].append(3)\n",
    "\n",
    "tup"
   ]
  },
  {
   "cell_type": "markdown",
   "id": "2e27c681",
   "metadata": {},
   "source": [
    "Bạn có thể nối các tuple bằng (+) để tạo ra tuple dài hơn:"
   ]
  },
  {
   "cell_type": "code",
   "execution_count": 15,
   "id": "489f03fe",
   "metadata": {},
   "outputs": [
    {
     "data": {
      "text/plain": [
       "(4, None, 'foo', 6, 0, 'bar')"
      ]
     },
     "execution_count": 15,
     "metadata": {},
     "output_type": "execute_result"
    }
   ],
   "source": [
    "(4, None, 'foo') + (6, 0) + ('bar',)"
   ]
  },
  {
   "cell_type": "markdown",
   "id": "2b52952a",
   "metadata": {},
   "source": [
    "Khi nhân tuple với 1 số nguyên, giống như list. Nó sẽ nối nhiều bản copies của tuple đó:"
   ]
  },
  {
   "cell_type": "code",
   "execution_count": 16,
   "id": "15c90342",
   "metadata": {},
   "outputs": [
    {
     "data": {
      "text/plain": [
       "('foo', 'bar', 'foo', 'bar', 'foo', 'bar', 'foo', 'bar')"
      ]
     },
     "execution_count": 16,
     "metadata": {},
     "output_type": "execute_result"
    }
   ],
   "source": [
    "('foo', 'bar') * 4"
   ]
  },
  {
   "cell_type": "markdown",
   "id": "d76ea042",
   "metadata": {},
   "source": [
    "##### Unpacking tuples\n",
    "Nếu bạn cố gắng gán giá trị cho một biểu thức có dạng giống như tuple gồm nhiều biến, Python sẽ cố gắng giải nén (unpack) giá trị ở phía bên phải dấu bằng:"
   ]
  },
  {
   "cell_type": "code",
   "execution_count": 17,
   "id": "b7936f1b",
   "metadata": {},
   "outputs": [
    {
     "data": {
      "text/plain": [
       "5"
      ]
     },
     "execution_count": 17,
     "metadata": {},
     "output_type": "execute_result"
    }
   ],
   "source": [
    "tup = (4, 5, 6)\n",
    "a, b, c = tup\n",
    "b"
   ]
  },
  {
   "cell_type": "markdown",
   "id": "2a694937",
   "metadata": {},
   "source": [
    "Cũng có thể unpack nested tuple:"
   ]
  },
  {
   "cell_type": "code",
   "execution_count": 18,
   "id": "262c2048",
   "metadata": {},
   "outputs": [
    {
     "data": {
      "text/plain": [
       "7"
      ]
     },
     "execution_count": 18,
     "metadata": {},
     "output_type": "execute_result"
    }
   ],
   "source": [
    "tup = (4, 5, (6, 7))\n",
    "a, b, (c, d) = tup\n",
    "d"
   ]
  },
  {
   "cell_type": "markdown",
   "id": "2929f50e",
   "metadata": {},
   "source": [
    "Thay vì swap các biến bằng cách này:"
   ]
  },
  {
   "cell_type": "code",
   "execution_count": 19,
   "id": "be77ab3d",
   "metadata": {},
   "outputs": [],
   "source": [
    "tmp = a\n",
    "a = b\n",
    "b = tmp"
   ]
  },
  {
   "cell_type": "markdown",
   "id": "3a47da73",
   "metadata": {},
   "source": [
    "Với Python, bạn có thể swap như sau:"
   ]
  },
  {
   "cell_type": "code",
   "execution_count": 21,
   "id": "8b8ba0c3",
   "metadata": {},
   "outputs": [],
   "source": [
    "a, b = 1, 2\n",
    "b, a = a, b"
   ]
  },
  {
   "cell_type": "markdown",
   "id": "13b77091",
   "metadata": {},
   "source": [
    "Một cách sử dụng phổ biến của việc giải nén biến (variable unpacking) là khi lặp qua các chuỗi gồm các tuple hoặc list."
   ]
  },
  {
   "cell_type": "code",
   "execution_count": 22,
   "id": "17ef2515",
   "metadata": {},
   "outputs": [
    {
     "name": "stdout",
     "output_type": "stream",
     "text": [
      "a=1, b=2, c=3\n",
      "a=4, b=5, c=6\n",
      "a=7, b=8, c=9\n"
     ]
    }
   ],
   "source": [
    "seq = [(1, 2, 3), (4, 5, 6), (7, 8, 9)]\n",
    "\n",
    "for a, b, c in seq:\n",
    "    print(f\"a={a}, b={b}, c={c}\")"
   ]
  }
 ],
 "metadata": {
  "kernelspec": {
   "display_name": "Python 3",
   "language": "python",
   "name": "python3"
  },
  "language_info": {
   "codemirror_mode": {
    "name": "ipython",
    "version": 3
   },
   "file_extension": ".py",
   "mimetype": "text/x-python",
   "name": "python",
   "nbconvert_exporter": "python",
   "pygments_lexer": "ipython3",
   "version": "3.12.4"
  }
 },
 "nbformat": 4,
 "nbformat_minor": 5
}
