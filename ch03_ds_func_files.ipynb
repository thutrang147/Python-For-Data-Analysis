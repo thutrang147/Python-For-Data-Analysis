{
 "cells": [
  {
   "cell_type": "markdown",
   "id": "3359b13a",
   "metadata": {},
   "source": [
    "### 3.1 Data Structutes and Sequences"
   ]
  },
  {
   "cell_type": "markdown",
   "id": "4c3aa2e3",
   "metadata": {},
   "source": [
    "#### Tuple\n",
    "Tuple là một dãy (sequence) các đối tượng Python có độ dài cố định và không thể thay đổi – nghĩa là một khi đã được gán giá trị, bạn không thể sửa đổi nội dung của nó nữa.   "
   ]
  },
  {
   "cell_type": "markdown",
   "id": "87a24e3a",
   "metadata": {},
   "source": [
    "Cách đơn giản nhất để tạo một tuple là dùng một dãy các giá trị, cách nhau bằng dấu phẩy và đặt trong dấu ngoặc đơn:"
   ]
  },
  {
   "cell_type": "code",
   "execution_count": 21,
   "id": "277af0c0",
   "metadata": {},
   "outputs": [
    {
     "data": {
      "text/plain": [
       "(4, 5, 6)"
      ]
     },
     "execution_count": 21,
     "metadata": {},
     "output_type": "execute_result"
    }
   ],
   "source": [
    "tup = (4, 5, 6)\n",
    "tup"
   ]
  },
  {
   "cell_type": "markdown",
   "id": "bb80cf19",
   "metadata": {},
   "source": [
    "Ta cũng có thể viết:"
   ]
  },
  {
   "cell_type": "code",
   "execution_count": 22,
   "id": "d2f4b9f0",
   "metadata": {},
   "outputs": [
    {
     "data": {
      "text/plain": [
       "(4, 5, 6)"
      ]
     },
     "execution_count": 22,
     "metadata": {},
     "output_type": "execute_result"
    }
   ],
   "source": [
    "tup = 4, 5, 6\n",
    "tup"
   ]
  },
  {
   "cell_type": "markdown",
   "id": "c3158a86",
   "metadata": {},
   "source": [
    "Bạn có thể chuyển bất kì sequence hoặc iterator nào thành 1 tuple bằng cách:"
   ]
  },
  {
   "cell_type": "code",
   "execution_count": 23,
   "id": "b535b417",
   "metadata": {},
   "outputs": [
    {
     "data": {
      "text/plain": [
       "(4, 0, 2)"
      ]
     },
     "execution_count": 23,
     "metadata": {},
     "output_type": "execute_result"
    }
   ],
   "source": [
    "tuple([4, 0, 2])"
   ]
  },
  {
   "cell_type": "code",
   "execution_count": 24,
   "id": "570598d0",
   "metadata": {},
   "outputs": [
    {
     "data": {
      "text/plain": [
       "('s', 't', 'r', 'i', 'n', 'g')"
      ]
     },
     "execution_count": 24,
     "metadata": {},
     "output_type": "execute_result"
    }
   ],
   "source": [
    "tup = tuple('string')\n",
    "tup"
   ]
  },
  {
   "cell_type": "markdown",
   "id": "3aadb5be",
   "metadata": {},
   "source": [
    "Có thể access các phần tử trong tuple bằng cách dùng [].  \n",
    "Chỉ số index bắt đầu từ 0."
   ]
  },
  {
   "cell_type": "code",
   "execution_count": 25,
   "id": "8e1a8c9a",
   "metadata": {},
   "outputs": [
    {
     "data": {
      "text/plain": [
       "'s'"
      ]
     },
     "execution_count": 25,
     "metadata": {},
     "output_type": "execute_result"
    }
   ],
   "source": [
    "tup[0]"
   ]
  },
  {
   "cell_type": "markdown",
   "id": "5be6161f",
   "metadata": {},
   "source": [
    "Khi bạn định nghĩa các tuple trong những biểu thức phức tạp hơn, thường sẽ cần phải đặt các giá trị trong dấu ngoặc đơn.  \n",
    "\n",
    "Một ví dụ về tuple chứa các tuple:"
   ]
  },
  {
   "cell_type": "code",
   "execution_count": 26,
   "id": "9109fbd0",
   "metadata": {},
   "outputs": [
    {
     "data": {
      "text/plain": [
       "((4, 5, 6), (7, 8))"
      ]
     },
     "execution_count": 26,
     "metadata": {},
     "output_type": "execute_result"
    }
   ],
   "source": [
    "nested_tup = (4, 5, 6), (7, 8)\n",
    "nested_tup"
   ]
  },
  {
   "cell_type": "code",
   "execution_count": 27,
   "id": "dd1e963a",
   "metadata": {},
   "outputs": [
    {
     "data": {
      "text/plain": [
       "(4, 5, 6)"
      ]
     },
     "execution_count": 27,
     "metadata": {},
     "output_type": "execute_result"
    }
   ],
   "source": [
    "nested_tup[0]"
   ]
  },
  {
   "cell_type": "code",
   "execution_count": 28,
   "id": "f4b01fa3",
   "metadata": {},
   "outputs": [
    {
     "data": {
      "text/plain": [
       "(7, 8)"
      ]
     },
     "execution_count": 28,
     "metadata": {},
     "output_type": "execute_result"
    }
   ],
   "source": [
    "nested_tup[1]"
   ]
  },
  {
   "cell_type": "markdown",
   "id": "8304e848",
   "metadata": {},
   "source": [
    "Mặc dù các đối tượng được lưu trong một tuple có thể là các đối tượng có thể thay đổi (mutable), nhưng một khi tuple đã được tạo, bạn không thể thay đổi đối tượng được lưu tại từng vị trí trong tuple."
   ]
  },
  {
   "cell_type": "code",
   "execution_count": 29,
   "id": "742b181c",
   "metadata": {},
   "outputs": [
    {
     "ename": "TypeError",
     "evalue": "'tuple' object does not support item assignment",
     "output_type": "error",
     "traceback": [
      "\u001b[0;31m---------------------------------------------------------------------------\u001b[0m",
      "\u001b[0;31mTypeError\u001b[0m                                 Traceback (most recent call last)",
      "Cell \u001b[0;32mIn[29], line 3\u001b[0m\n\u001b[1;32m      1\u001b[0m tup \u001b[38;5;241m=\u001b[39m \u001b[38;5;28mtuple\u001b[39m([\u001b[38;5;124m'\u001b[39m\u001b[38;5;124mfoo\u001b[39m\u001b[38;5;124m'\u001b[39m, [\u001b[38;5;241m1\u001b[39m, \u001b[38;5;241m2\u001b[39m], \u001b[38;5;28;01mTrue\u001b[39;00m])\n\u001b[0;32m----> 3\u001b[0m \u001b[43mtup\u001b[49m\u001b[43m[\u001b[49m\u001b[38;5;241;43m2\u001b[39;49m\u001b[43m]\u001b[49m \u001b[38;5;241m=\u001b[39m \u001b[38;5;28;01mFalse\u001b[39;00m\n",
      "\u001b[0;31mTypeError\u001b[0m: 'tuple' object does not support item assignment"
     ]
    }
   ],
   "source": [
    "tup = tuple(['foo', [1, 2], True])\n",
    "\n",
    "tup[2] = False"
   ]
  },
  {
   "cell_type": "markdown",
   "id": "687cc8e6",
   "metadata": {},
   "source": [
    "Nếu 1 đối tượng bên trong tuple là kiểu có thể thay đổi (mutable), chẳng hạn như list, bạn có thể thay đổi nội dung của nó in place:"
   ]
  },
  {
   "cell_type": "code",
   "execution_count": 30,
   "id": "5a2f02b3",
   "metadata": {},
   "outputs": [
    {
     "data": {
      "text/plain": [
       "('foo', [1, 2, 3], True)"
      ]
     },
     "execution_count": 30,
     "metadata": {},
     "output_type": "execute_result"
    }
   ],
   "source": [
    "tup[1].append(3)\n",
    "\n",
    "tup"
   ]
  },
  {
   "cell_type": "markdown",
   "id": "2e27c681",
   "metadata": {},
   "source": [
    "Bạn có thể nối các tuple bằng (+) để tạo ra tuple dài hơn:"
   ]
  },
  {
   "cell_type": "code",
   "execution_count": 31,
   "id": "489f03fe",
   "metadata": {},
   "outputs": [
    {
     "data": {
      "text/plain": [
       "(4, None, 'foo', 6, 0, 'bar')"
      ]
     },
     "execution_count": 31,
     "metadata": {},
     "output_type": "execute_result"
    }
   ],
   "source": [
    "(4, None, 'foo') + (6, 0) + ('bar',)"
   ]
  },
  {
   "cell_type": "markdown",
   "id": "2b52952a",
   "metadata": {},
   "source": [
    "Khi nhân tuple với 1 số nguyên, giống như list. Nó sẽ nối nhiều bản copies của tuple đó:"
   ]
  },
  {
   "cell_type": "code",
   "execution_count": 32,
   "id": "15c90342",
   "metadata": {},
   "outputs": [
    {
     "data": {
      "text/plain": [
       "('foo', 'bar', 'foo', 'bar', 'foo', 'bar', 'foo', 'bar')"
      ]
     },
     "execution_count": 32,
     "metadata": {},
     "output_type": "execute_result"
    }
   ],
   "source": [
    "('foo', 'bar') * 4"
   ]
  },
  {
   "cell_type": "markdown",
   "id": "d76ea042",
   "metadata": {},
   "source": [
    "##### Unpacking tuples\n",
    "Nếu bạn cố gắng gán giá trị cho một biểu thức có dạng giống như tuple gồm nhiều biến, Python sẽ cố gắng giải nén (unpack) giá trị ở phía bên phải dấu bằng:"
   ]
  },
  {
   "cell_type": "code",
   "execution_count": 33,
   "id": "b7936f1b",
   "metadata": {},
   "outputs": [
    {
     "data": {
      "text/plain": [
       "5"
      ]
     },
     "execution_count": 33,
     "metadata": {},
     "output_type": "execute_result"
    }
   ],
   "source": [
    "tup = (4, 5, 6)\n",
    "a, b, c = tup\n",
    "b"
   ]
  },
  {
   "cell_type": "markdown",
   "id": "2a694937",
   "metadata": {},
   "source": [
    "Cũng có thể unpack nested tuple:"
   ]
  },
  {
   "cell_type": "code",
   "execution_count": 34,
   "id": "262c2048",
   "metadata": {},
   "outputs": [
    {
     "data": {
      "text/plain": [
       "7"
      ]
     },
     "execution_count": 34,
     "metadata": {},
     "output_type": "execute_result"
    }
   ],
   "source": [
    "tup = (4, 5, (6, 7))\n",
    "a, b, (c, d) = tup\n",
    "d"
   ]
  },
  {
   "cell_type": "markdown",
   "id": "2929f50e",
   "metadata": {},
   "source": [
    "Thay vì swap các biến bằng cách này:"
   ]
  },
  {
   "cell_type": "code",
   "execution_count": 35,
   "id": "be77ab3d",
   "metadata": {},
   "outputs": [],
   "source": [
    "tmp = a\n",
    "a = b\n",
    "b = tmp"
   ]
  },
  {
   "cell_type": "markdown",
   "id": "3a47da73",
   "metadata": {},
   "source": [
    "Với Python, bạn có thể swap như sau:"
   ]
  },
  {
   "cell_type": "code",
   "execution_count": 36,
   "id": "8b8ba0c3",
   "metadata": {},
   "outputs": [],
   "source": [
    "a, b = 1, 2\n",
    "b, a = a, b"
   ]
  },
  {
   "cell_type": "markdown",
   "id": "13b77091",
   "metadata": {},
   "source": [
    "Một cách sử dụng phổ biến của việc giải nén biến (variable unpacking) là khi lặp qua các chuỗi gồm các tuple hoặc list."
   ]
  },
  {
   "cell_type": "code",
   "execution_count": 37,
   "id": "17ef2515",
   "metadata": {},
   "outputs": [
    {
     "name": "stdout",
     "output_type": "stream",
     "text": [
      "a=1, b=2, c=3\n",
      "a=4, b=5, c=6\n",
      "a=7, b=8, c=9\n"
     ]
    }
   ],
   "source": [
    "seq = [(1, 2, 3), (4, 5, 6), (7, 8, 9)]\n",
    "\n",
    "for a, b, c in seq:\n",
    "    print(f\"a={a}, b={b}, c={c}\")"
   ]
  },
  {
   "cell_type": "markdown",
   "id": "eb158815",
   "metadata": {},
   "source": [
    "Có một số tình huống mà bạn có thể muốn “lấy ra” một vài phần tử từ đầu của một tuple. Có một cú pháp đặc biệt có thể làm điều này, đó là `*rest`, cú pháp này cũng được sử dụng trong khai báo hàm để thu nhận một danh sách đối số vị trí có độ dài tùy ý:"
   ]
  },
  {
   "cell_type": "code",
   "execution_count": 38,
   "id": "81064e5d",
   "metadata": {},
   "outputs": [],
   "source": [
    "values = 1, 2, 3, 4, 5\n",
    "\n",
    "a, b, *rest = values"
   ]
  },
  {
   "cell_type": "code",
   "execution_count": 39,
   "id": "cc07563e",
   "metadata": {},
   "outputs": [
    {
     "data": {
      "text/plain": [
       "1"
      ]
     },
     "execution_count": 39,
     "metadata": {},
     "output_type": "execute_result"
    }
   ],
   "source": [
    "a"
   ]
  },
  {
   "cell_type": "code",
   "execution_count": 40,
   "id": "e2649cc1",
   "metadata": {},
   "outputs": [
    {
     "data": {
      "text/plain": [
       "2"
      ]
     },
     "execution_count": 40,
     "metadata": {},
     "output_type": "execute_result"
    }
   ],
   "source": [
    "b"
   ]
  },
  {
   "cell_type": "code",
   "execution_count": 41,
   "id": "c8020de0",
   "metadata": {},
   "outputs": [
    {
     "data": {
      "text/plain": [
       "[3, 4, 5]"
      ]
     },
     "execution_count": 41,
     "metadata": {},
     "output_type": "execute_result"
    }
   ],
   "source": [
    "rest "
   ]
  },
  {
   "cell_type": "markdown",
   "id": "da0a4702",
   "metadata": {},
   "source": [
    "Phần `rest` này đôi khi là thứ bạn muốn bỏ qua; không có gì đặc biệt với cái tên `rest` cả. Theo thông lệ, nhiều lập trình viên Python sẽ sử dụng dấu gạch dưới (_) cho những biến không cần thiết:"
   ]
  },
  {
   "cell_type": "code",
   "execution_count": 42,
   "id": "148961ba",
   "metadata": {},
   "outputs": [],
   "source": [
    "a, b, *_ = values"
   ]
  },
  {
   "cell_type": "markdown",
   "id": "e4fc7e4f",
   "metadata": {},
   "source": [
    "##### Tuple methods"
   ]
  },
  {
   "cell_type": "markdown",
   "id": "dcdc88d9",
   "metadata": {},
   "source": [
    "`count` đếm số lần xuất hiện của 1 giá trị"
   ]
  },
  {
   "cell_type": "code",
   "execution_count": 43,
   "id": "8aa6256b",
   "metadata": {},
   "outputs": [
    {
     "data": {
      "text/plain": [
       "4"
      ]
     },
     "execution_count": 43,
     "metadata": {},
     "output_type": "execute_result"
    }
   ],
   "source": [
    "a = (1, 2, 2, 2, 3, 4, 2)\n",
    "a.count(2)"
   ]
  },
  {
   "cell_type": "markdown",
   "id": "a260515e",
   "metadata": {},
   "source": [
    "#### List"
   ]
  },
  {
   "cell_type": "markdown",
   "id": "0d64723b",
   "metadata": {},
   "source": [
    "Trái ngược với tuple, danh sách (list) có độ dài thay đổi và nội dung của chúng có thể được chỉnh sửa ngay tại chỗ. List là một kiểu có thể thay đổi (mutable). Bạn có thể khai báo list bằng dấu ngoặc vuông [] hoặc bằng hàm list()"
   ]
  },
  {
   "cell_type": "code",
   "execution_count": 44,
   "id": "e0fe5cd2",
   "metadata": {},
   "outputs": [],
   "source": [
    "a_list = [2, 3, 7, None]"
   ]
  },
  {
   "cell_type": "code",
   "execution_count": 45,
   "id": "3716eb32",
   "metadata": {},
   "outputs": [],
   "source": [
    "tup = (\"foo\", \"bar\", \"baz\")"
   ]
  },
  {
   "cell_type": "code",
   "execution_count": 46,
   "id": "57a8a3d4",
   "metadata": {},
   "outputs": [],
   "source": [
    "b_list = list(tup)"
   ]
  },
  {
   "cell_type": "code",
   "execution_count": 47,
   "id": "88d5e466",
   "metadata": {},
   "outputs": [
    {
     "data": {
      "text/plain": [
       "['foo', 'bar', 'baz']"
      ]
     },
     "execution_count": 47,
     "metadata": {},
     "output_type": "execute_result"
    }
   ],
   "source": [
    "b_list"
   ]
  },
  {
   "cell_type": "code",
   "execution_count": 48,
   "id": "24b3be5e",
   "metadata": {},
   "outputs": [],
   "source": [
    "b_list[1] = \"peekaboo\""
   ]
  },
  {
   "cell_type": "code",
   "execution_count": 49,
   "id": "93e60573",
   "metadata": {},
   "outputs": [
    {
     "data": {
      "text/plain": [
       "['foo', 'peekaboo', 'baz']"
      ]
     },
     "execution_count": 49,
     "metadata": {},
     "output_type": "execute_result"
    }
   ],
   "source": [
    "b_list "
   ]
  },
  {
   "cell_type": "markdown",
   "id": "44bf9654",
   "metadata": {},
   "source": [
    "Hàm dựng sẵn `list` thường được sử dụng trong xử lý dữ liệu như một cách để hiện thực hóa (materialize) một iterator hoặc generator expression"
   ]
  },
  {
   "cell_type": "code",
   "execution_count": 50,
   "id": "b496820c",
   "metadata": {},
   "outputs": [],
   "source": [
    "gen = range(10)"
   ]
  },
  {
   "cell_type": "code",
   "execution_count": 51,
   "id": "20228016",
   "metadata": {},
   "outputs": [
    {
     "data": {
      "text/plain": [
       "range(0, 10)"
      ]
     },
     "execution_count": 51,
     "metadata": {},
     "output_type": "execute_result"
    }
   ],
   "source": [
    "gen"
   ]
  },
  {
   "cell_type": "code",
   "execution_count": 52,
   "id": "09564241",
   "metadata": {},
   "outputs": [
    {
     "data": {
      "text/plain": [
       "[0, 1, 2, 3, 4, 5, 6, 7, 8, 9]"
      ]
     },
     "execution_count": 52,
     "metadata": {},
     "output_type": "execute_result"
    }
   ],
   "source": [
    "list(gen)"
   ]
  },
  {
   "cell_type": "markdown",
   "id": "fae35972",
   "metadata": {},
   "source": [
    "##### Adding and removing elements"
   ]
  },
  {
   "cell_type": "markdown",
   "id": "8f154118",
   "metadata": {},
   "source": [
    "Các phần tử có thể được thêm vào cuối danh sách bằng phương thức `append`:"
   ]
  },
  {
   "cell_type": "code",
   "execution_count": 53,
   "id": "de5c3040",
   "metadata": {},
   "outputs": [
    {
     "data": {
      "text/plain": [
       "['foo', 'peekaboo', 'baz', 'dwarf']"
      ]
     },
     "execution_count": 53,
     "metadata": {},
     "output_type": "execute_result"
    }
   ],
   "source": [
    "b_list.append(\"dwarf\")\n",
    "b_list"
   ]
  },
  {
   "cell_type": "markdown",
   "id": "4b039ac9",
   "metadata": {},
   "source": [
    "Sử dụng `insert`, bạn có thể chèn một phần tử vào một vị trí cụ thể trong danh sách:"
   ]
  },
  {
   "cell_type": "code",
   "execution_count": 54,
   "id": "47a7a15c",
   "metadata": {},
   "outputs": [
    {
     "data": {
      "text/plain": [
       "['foo', 'red', 'peekaboo', 'baz', 'dwarf']"
      ]
     },
     "execution_count": 54,
     "metadata": {},
     "output_type": "execute_result"
    }
   ],
   "source": [
    "b_list.insert(1, \"red\")\n",
    "b_list"
   ]
  },
  {
   "cell_type": "markdown",
   "id": "e7d07a95",
   "metadata": {},
   "source": [
    "Chỉ số chèn (insertion index) phải nằm trong khoảng từ 0 đến độ dài của danh sách, bao gồm cả hai giá trị này."
   ]
  },
  {
   "cell_type": "markdown",
   "id": "9eaf1771",
   "metadata": {},
   "source": [
    "Phép toán ngược lại với insert là `pop`, dùng để xóa và trả về một phần tử tại một chỉ số cụ thể:"
   ]
  },
  {
   "cell_type": "code",
   "execution_count": 55,
   "id": "0665ef78",
   "metadata": {},
   "outputs": [
    {
     "data": {
      "text/plain": [
       "'peekaboo'"
      ]
     },
     "execution_count": 55,
     "metadata": {},
     "output_type": "execute_result"
    }
   ],
   "source": [
    "b_list.pop(2)"
   ]
  },
  {
   "cell_type": "code",
   "execution_count": 56,
   "id": "64ea1328",
   "metadata": {},
   "outputs": [
    {
     "data": {
      "text/plain": [
       "['foo', 'red', 'baz', 'dwarf']"
      ]
     },
     "execution_count": 56,
     "metadata": {},
     "output_type": "execute_result"
    }
   ],
   "source": [
    "b_list"
   ]
  },
  {
   "cell_type": "markdown",
   "id": "c7ef4b7d",
   "metadata": {},
   "source": [
    "Các phần tử có thể được xóa theo giá trị bằng phương thức `remove`, phương thức này sẽ tìm giá trị đầu tiên phù hợp và xóa nó khỏi danh sách:"
   ]
  },
  {
   "cell_type": "code",
   "execution_count": 57,
   "id": "bea70866",
   "metadata": {},
   "outputs": [],
   "source": [
    "b_list.append(\"foo\")"
   ]
  },
  {
   "cell_type": "code",
   "execution_count": 58,
   "id": "e3be49fb",
   "metadata": {},
   "outputs": [
    {
     "data": {
      "text/plain": [
       "['foo', 'red', 'baz', 'dwarf', 'foo']"
      ]
     },
     "execution_count": 58,
     "metadata": {},
     "output_type": "execute_result"
    }
   ],
   "source": [
    "b_list"
   ]
  },
  {
   "cell_type": "code",
   "execution_count": 60,
   "id": "22fa131b",
   "metadata": {},
   "outputs": [],
   "source": [
    "b_list.remove(\"foo\")"
   ]
  },
  {
   "cell_type": "code",
   "execution_count": 61,
   "id": "8590877d",
   "metadata": {},
   "outputs": [
    {
     "data": {
      "text/plain": [
       "['red', 'baz', 'dwarf']"
      ]
     },
     "execution_count": 61,
     "metadata": {},
     "output_type": "execute_result"
    }
   ],
   "source": [
    "b_list"
   ]
  },
  {
   "cell_type": "markdown",
   "id": "3b273d7c",
   "metadata": {},
   "source": [
    "Kiểm tra xem một danh sách có chứa một giá trị hay không bằng cách sử dụng từ khóa `in`:"
   ]
  },
  {
   "cell_type": "code",
   "execution_count": 62,
   "id": "c6857aae",
   "metadata": {},
   "outputs": [
    {
     "data": {
      "text/plain": [
       "True"
      ]
     },
     "execution_count": 62,
     "metadata": {},
     "output_type": "execute_result"
    }
   ],
   "source": [
    "\"dwarf\" in b_list"
   ]
  },
  {
   "cell_type": "code",
   "execution_count": 63,
   "id": "890f3cd8",
   "metadata": {},
   "outputs": [
    {
     "data": {
      "text/plain": [
       "False"
      ]
     },
     "execution_count": 63,
     "metadata": {},
     "output_type": "execute_result"
    }
   ],
   "source": [
    "\"dwarf\" not in b_list"
   ]
  },
  {
   "cell_type": "markdown",
   "id": "2ddb9128",
   "metadata": {},
   "source": [
    "Việc kiểm tra xem một danh sách có chứa một giá trị hay không sẽ chậm hơn nhiều so với việc kiểm tra với `dictionary` và `set` (sẽ được giới thiệu sau), vì Python quét tuần tự (linear scan) qua các giá trị trong danh sách. Trong khi đó, với `dictionary` và `set` (dựa trên bảng băm – hash table), Python có thể kiểm tra trong thời gian hằng số (constant time)."
   ]
  },
  {
   "cell_type": "markdown",
   "id": "5b68227c",
   "metadata": {},
   "source": [
    "##### Concatenating and combining lists"
   ]
  },
  {
   "cell_type": "markdown",
   "id": "75a494dd",
   "metadata": {},
   "source": [
    "Tương tự như với tuple, cộng hai danh sách (list) bằng toán tử `+` sẽ nối chúng lại với nhau:"
   ]
  },
  {
   "cell_type": "code",
   "execution_count": 64,
   "id": "6009feb2",
   "metadata": {},
   "outputs": [
    {
     "data": {
      "text/plain": [
       "[4, None, 'foo', 7, 8, (2, 3)]"
      ]
     },
     "execution_count": 64,
     "metadata": {},
     "output_type": "execute_result"
    }
   ],
   "source": [
    "[4, None, \"foo\"] + [7, 8, (2, 3)]"
   ]
  },
  {
   "cell_type": "markdown",
   "id": "8f153ef3",
   "metadata": {},
   "source": [
    "Nếu bạn đã có một danh sách được định nghĩa sẵn, bạn có thể thêm nhiều phần tử vào danh sách đó bằng cách sử dụng phương thức `extend`:"
   ]
  },
  {
   "cell_type": "code",
   "execution_count": 65,
   "id": "5e09d454",
   "metadata": {},
   "outputs": [],
   "source": [
    "x = [4, None, \"foo\"]\n",
    "x.extend([7, 8, (2, 3)])"
   ]
  },
  {
   "cell_type": "code",
   "execution_count": 66,
   "id": "5c1227ce",
   "metadata": {},
   "outputs": [
    {
     "data": {
      "text/plain": [
       "[4, None, 'foo', 7, 8, (2, 3)]"
      ]
     },
     "execution_count": 66,
     "metadata": {},
     "output_type": "execute_result"
    }
   ],
   "source": [
    "x"
   ]
  },
  {
   "cell_type": "markdown",
   "id": "38e049ed",
   "metadata": {},
   "source": [
    "Lưu ý rằng việc nối danh sách bằng phép cộng `(+)` là một thao tác **tương đối tốn kém**, vì một danh sách mới phải được tạo ra và các phần tử phải được sao chép vào đó.\n",
    "Việc sử dụng `extend` để thêm phần tử vào một danh sách có sẵn – đặc biệt nếu bạn đang xây dựng một danh sách lớn – thường là **lựa chọn tốt hơn**."
   ]
  },
  {
   "cell_type": "markdown",
   "id": "8a9ed07e",
   "metadata": {},
   "source": [
    "##### Sorting"
   ]
  },
  {
   "cell_type": "markdown",
   "id": "5c002ac8",
   "metadata": {},
   "source": [
    "Bạn có thể sắp xếp một danh sách ngay tại chỗ (in place) — tức là không tạo ra một đối tượng mới — bằng cách gọi hàm `sort` của nó:"
   ]
  },
  {
   "cell_type": "code",
   "execution_count": 67,
   "id": "091d2b96",
   "metadata": {},
   "outputs": [],
   "source": [
    "a = [7, 2, 5, 1, 3]"
   ]
  },
  {
   "cell_type": "code",
   "execution_count": 69,
   "id": "f1bdbd99",
   "metadata": {},
   "outputs": [],
   "source": [
    "a.sort()"
   ]
  },
  {
   "cell_type": "code",
   "execution_count": 70,
   "id": "6600eabd",
   "metadata": {},
   "outputs": [
    {
     "data": {
      "text/plain": [
       "[1, 2, 3, 5, 7]"
      ]
     },
     "execution_count": 70,
     "metadata": {},
     "output_type": "execute_result"
    }
   ],
   "source": [
    "a"
   ]
  },
  {
   "cell_type": "markdown",
   "id": "135f0e88",
   "metadata": {},
   "source": [
    "Hàm `sort` có một vài tùy chọn có thể sẽ hữu ích trong một số trường hợp. Một trong số đó là khả năng truyền vào một khóa sắp xếp phụ (secondary sort key) — tức là một hàm trả về giá trị dùng để sắp xếp các đối tượng.\n",
    "\n",
    "Ví dụ, chúng ta có thể sắp xếp một tập hợp các chuỗi theo độ dài của chúng:"
   ]
  },
  {
   "cell_type": "code",
   "execution_count": 71,
   "id": "cb9934f8",
   "metadata": {},
   "outputs": [],
   "source": [
    "b = [\"saw\", \"small\", \"He\", \"foxes\", \"six\"]"
   ]
  },
  {
   "cell_type": "code",
   "execution_count": 72,
   "id": "14f15b48",
   "metadata": {},
   "outputs": [],
   "source": [
    "b.sort(key=len)"
   ]
  },
  {
   "cell_type": "code",
   "execution_count": 73,
   "id": "80b47aa0",
   "metadata": {},
   "outputs": [
    {
     "data": {
      "text/plain": [
       "['He', 'saw', 'six', 'small', 'foxes']"
      ]
     },
     "execution_count": 73,
     "metadata": {},
     "output_type": "execute_result"
    }
   ],
   "source": [
    "b"
   ]
  },
  {
   "cell_type": "markdown",
   "id": "9a33fe79",
   "metadata": {},
   "source": [
    "##### Sclicing"
   ]
  },
  {
   "cell_type": "markdown",
   "id": "0caee204",
   "metadata": {},
   "source": [
    "Bạn có thể chọn các phần của hầu hết các kiểu chuỗi (sequence) bằng cách sử dụng cú pháp cắt lát (slice notation), mà ở dạng cơ bản bao gồm `start:stop` được truyền vào toán tử chỉ mục `[]`:"
   ]
  },
  {
   "cell_type": "code",
   "execution_count": 74,
   "id": "4c51abe2",
   "metadata": {},
   "outputs": [],
   "source": [
    "seq = [7, 2, 3, 7, 5, 6, 0, 1]"
   ]
  },
  {
   "cell_type": "code",
   "execution_count": 75,
   "id": "425b1662",
   "metadata": {},
   "outputs": [
    {
     "data": {
      "text/plain": [
       "[2, 3, 7, 5]"
      ]
     },
     "execution_count": 75,
     "metadata": {},
     "output_type": "execute_result"
    }
   ],
   "source": [
    "seq[1:5]"
   ]
  },
  {
   "cell_type": "markdown",
   "id": "3914f2d6",
   "metadata": {},
   "source": [
    "Các lát cắt (slice) cũng có thể được gán bằng một chuỗi (sequence):"
   ]
  },
  {
   "cell_type": "code",
   "execution_count": 76,
   "id": "b3591bf4",
   "metadata": {},
   "outputs": [],
   "source": [
    "seq[3:5] = [6, 3]"
   ]
  },
  {
   "cell_type": "code",
   "execution_count": 77,
   "id": "ae6ae32a",
   "metadata": {},
   "outputs": [
    {
     "data": {
      "text/plain": [
       "[7, 2, 3, 6, 3, 6, 0, 1]"
      ]
     },
     "execution_count": 77,
     "metadata": {},
     "output_type": "execute_result"
    }
   ],
   "source": [
    "seq"
   ]
  },
  {
   "cell_type": "markdown",
   "id": "ced1f79e",
   "metadata": {},
   "source": [
    "Bạn có thể bỏ qua chỉ số bắt đầu (start) hoặc chỉ số kết thúc (stop), trong trường hợp đó, chúng sẽ mặc định là đầu chuỗi và cuối chuỗi, tương ứng:"
   ]
  },
  {
   "cell_type": "code",
   "execution_count": 78,
   "id": "9d0d162d",
   "metadata": {},
   "outputs": [
    {
     "data": {
      "text/plain": [
       "[7, 2, 3, 6, 3]"
      ]
     },
     "execution_count": 78,
     "metadata": {},
     "output_type": "execute_result"
    }
   ],
   "source": [
    "seq[:5]"
   ]
  },
  {
   "cell_type": "code",
   "execution_count": 79,
   "id": "e6279f98",
   "metadata": {},
   "outputs": [
    {
     "data": {
      "text/plain": [
       "[6, 3, 6, 0, 1]"
      ]
     },
     "execution_count": 79,
     "metadata": {},
     "output_type": "execute_result"
    }
   ],
   "source": [
    "seq[3:]"
   ]
  },
  {
   "cell_type": "markdown",
   "id": "8ca42af9",
   "metadata": {},
   "source": [
    "Chỉ số âm sẽ cắt (slice) chuỗi dựa theo vị trí tính từ cuối chuỗi:"
   ]
  },
  {
   "cell_type": "code",
   "execution_count": 80,
   "id": "1498d043",
   "metadata": {},
   "outputs": [
    {
     "data": {
      "text/plain": [
       "[3, 6, 0, 1]"
      ]
     },
     "execution_count": 80,
     "metadata": {},
     "output_type": "execute_result"
    }
   ],
   "source": [
    "seq[-4:]"
   ]
  },
  {
   "cell_type": "code",
   "execution_count": 81,
   "id": "4689b437",
   "metadata": {},
   "outputs": [
    {
     "data": {
      "text/plain": [
       "[3, 6, 3, 6]"
      ]
     },
     "execution_count": 81,
     "metadata": {},
     "output_type": "execute_result"
    }
   ],
   "source": [
    "seq[-6:-2]"
   ]
  },
  {
   "cell_type": "markdown",
   "id": "4931d247",
   "metadata": {},
   "source": [
    "Bạn cũng có thể sử dụng bước nhảy (step) sau dấu hai chấm thứ hai, ví dụ như để lấy mỗi phần tử cách nhau một phần tử (cách một phần tử):"
   ]
  },
  {
   "cell_type": "code",
   "execution_count": 82,
   "id": "046954bc",
   "metadata": {},
   "outputs": [
    {
     "data": {
      "text/plain": [
       "[7, 3, 3, 0]"
      ]
     },
     "execution_count": 82,
     "metadata": {},
     "output_type": "execute_result"
    }
   ],
   "source": [
    "seq[::2]"
   ]
  },
  {
   "cell_type": "markdown",
   "id": "9f3dd69a",
   "metadata": {},
   "source": [
    "Truyền vào -1 sẽ giúp đảo ngược list/tuple"
   ]
  },
  {
   "cell_type": "code",
   "execution_count": 83,
   "id": "1a4fee79",
   "metadata": {},
   "outputs": [
    {
     "data": {
      "text/plain": [
       "[1, 0, 6, 3, 6, 3, 2, 7]"
      ]
     },
     "execution_count": 83,
     "metadata": {},
     "output_type": "execute_result"
    }
   ],
   "source": [
    "seq[::-1]"
   ]
  },
  {
   "cell_type": "markdown",
   "id": "9a8b8cfb",
   "metadata": {},
   "source": [
    "#### Dictionary"
   ]
  },
  {
   "cell_type": "markdown",
   "id": "16e5fae3",
   "metadata": {},
   "source": [
    "Từ điển (dictionary hay dict) có thể là cấu trúc dữ liệu tích hợp quan trọng nhất trong Python.\n",
    "Trong các ngôn ngữ lập trình khác, từ điển đôi khi được gọi là hash maps hoặc mảng kết hợp (associative arrays).\n",
    "\n",
    "Một từ điển lưu trữ tập hợp các cặp khóa – giá trị (key-value), trong đó khóa và giá trị đều là các đối tượng Python.\n",
    "Mỗi khóa được liên kết với một giá trị, vì vậy giá trị đó có thể được *truy xuất, chèn, sửa đổi hoặc xóa* một cách thuận tiện, chỉ cần biết khóa tương ứng.\n",
    "\n",
    "Một cách để tạo từ điển là sử dụng dấu ngoặc nhọn `{}` và dấu hai chấm `:` để phân tách khóa và giá trị:"
   ]
  },
  {
   "cell_type": "code",
   "execution_count": 84,
   "id": "4a732215",
   "metadata": {},
   "outputs": [],
   "source": [
    "empty_dict = {}"
   ]
  },
  {
   "cell_type": "code",
   "execution_count": 85,
   "id": "3dccaf43",
   "metadata": {},
   "outputs": [],
   "source": [
    "d1 = {\"a\": \"some value\", \"b\": [1, 2, 3, 4]}"
   ]
  },
  {
   "cell_type": "code",
   "execution_count": 86,
   "id": "76ee1be8",
   "metadata": {},
   "outputs": [
    {
     "data": {
      "text/plain": [
       "{'a': 'some value', 'b': [1, 2, 3, 4]}"
      ]
     },
     "execution_count": 86,
     "metadata": {},
     "output_type": "execute_result"
    }
   ],
   "source": [
    "d1"
   ]
  },
  {
   "cell_type": "markdown",
   "id": "8730cf43",
   "metadata": {},
   "source": [
    "Bạn có thể truy cập, chèn hoặc gán (cập nhật) phần tử trong từ điển bằng cú pháp giống như khi truy cập phần tử trong list hoặc tuple:"
   ]
  },
  {
   "cell_type": "code",
   "execution_count": 87,
   "id": "d5ba9268",
   "metadata": {},
   "outputs": [],
   "source": [
    "d1[7] = \"an integer\""
   ]
  },
  {
   "cell_type": "code",
   "execution_count": 88,
   "id": "1c67838a",
   "metadata": {},
   "outputs": [
    {
     "data": {
      "text/plain": [
       "{'a': 'some value', 'b': [1, 2, 3, 4], 7: 'an integer'}"
      ]
     },
     "execution_count": 88,
     "metadata": {},
     "output_type": "execute_result"
    }
   ],
   "source": [
    "d1"
   ]
  },
  {
   "cell_type": "code",
   "execution_count": 89,
   "id": "582ddaa1",
   "metadata": {},
   "outputs": [
    {
     "data": {
      "text/plain": [
       "[1, 2, 3, 4]"
      ]
     },
     "execution_count": 89,
     "metadata": {},
     "output_type": "execute_result"
    }
   ],
   "source": [
    "d1[\"b\"]"
   ]
  }
 ],
 "metadata": {
  "kernelspec": {
   "display_name": "Python 3",
   "language": "python",
   "name": "python3"
  },
  "language_info": {
   "codemirror_mode": {
    "name": "ipython",
    "version": 3
   },
   "file_extension": ".py",
   "mimetype": "text/x-python",
   "name": "python",
   "nbconvert_exporter": "python",
   "pygments_lexer": "ipython3",
   "version": "3.12.4"
  }
 },
 "nbformat": 4,
 "nbformat_minor": 5
}
